{
 "cells": [
  {
   "cell_type": "markdown",
   "metadata": {},
   "source": [
    "# Scraping protocol descriptions"
   ]
  },
  {
   "cell_type": "markdown",
   "metadata": {},
   "source": [
    "### Import packages"
   ]
  },
  {
   "cell_type": "code",
   "execution_count": 1,
   "metadata": {
    "collapsed": true
   },
   "outputs": [],
   "source": [
    "from pathlib import Path\n",
    "import pickle\n",
    "import pandas as pd\n",
    "import requests\n",
    "import numpy as np\n",
    "from bs4 import BeautifulSoup"
   ]
  },
  {
   "cell_type": "markdown",
   "metadata": {},
   "source": [
    "### Define functions"
   ]
  },
  {
   "cell_type": "code",
   "execution_count": 2,
   "metadata": {
    "collapsed": false
   },
   "outputs": [],
   "source": [
    "def add_link_to_protocol_query(df_protocols):\n",
    "    query_base = 'https://clinicalstudies.info.nih.gov/cgi/cs/processqry2.pl?search1='\n",
    "    query_tail = '&searchtype=e&SearchButton99a=Submit+Query'\n",
    "    results_urls = []\n",
    "    for prot in df_protocols.protocol_id:\n",
    "        results_urls.append(query_base + prot + query_tail)\n",
    "    df_protocols['link_1'] = results_urls\n",
    "    return df_protocols\n",
    "\n",
    "\n",
    "def get_pages_at_link_1(df_protocols):\n",
    "    \"\"\"Return the search query results webpages for each protocol (labeled link 1)\"\"\"\n",
    "    pages_results = []\n",
    "    for link in df_protocols.link_1:\n",
    "        pages_results.append(requests.get(link))\n",
    "    return pages_results\n",
    "\n",
    "\n",
    "def scrape_results_of_queries(page_results, df_protocols):\n",
    "    \"\"\"With the page of results from each link_1, follow the link and extract all important information at the subsequent page\"\"\"\n",
    "    links = []\n",
    "    #from IPython.core.debugger import Tracer\n",
    "    #Tracer()() #this one triggers the debugger\n",
    "    for ii,page in enumerate(page_results):\n",
    "\n",
    "        result_soup = BeautifulSoup(page.content, 'html.parser')\n",
    "        # val = [link_element for  link_element in results_soup.select('html body div p a')][0]\n",
    "        try:\n",
    "            link_2 = result_soup.find_all('img')[2].find('a')['href']  \n",
    "            next_page_soup = BeautifulSoup(requests.get(link_2).content, 'html.parser')\n",
    "            info_text = '\\n'.join(next_page_soup.find_all('img')[2].get_text().splitlines()[:-4])\n",
    "            link_3 = next_page_soup.find_all('a')[2]['href']\n",
    "        except:\n",
    "            link_2, info_text, link_3 = (np.NaN for i in range(3))\n",
    "            print('no protocol by found:' + page.url)\n",
    "        df_protocols.loc[ii,'link_2']  = link_2\n",
    "        df_protocols.loc[ii, 'link_3'] = link_3\n",
    "        df_protocols.loc[ii, 'info_text'] = info_text\n",
    "    \n",
    "    return df_protocols\n",
    "\n",
    "\n",
    "def get_prot_info_at_link_3(s):\n",
    "    \"\"\"Scrape the protocol page at link_3\"\"\"\n",
    "    try:\n",
    "        \n",
    "        protocol_page = requests.get(s.link_3)\n",
    "        df_prot = pd.read_html(protocol_page.text)\n",
    "        s = pd.concat([s,\n",
    "                       pd.Series(data=df_prot[0][1].tolist(),index=df_prot[0][0].tolist()),\n",
    "                       pd.Series(data=df_prot[1].T[1].tolist(),index=df_prot[1].T[0].tolist())],\n",
    "                      axis = 0)\n",
    "    except:\n",
    "        pass\n",
    "    return s\n",
    "\n",
    "def tidy_df_scraped(df_scraped):\n",
    "    df_scraped = (df_scraped.iloc[:,df_scraped.columns == df_scraped.columns].\n",
    "                  drop(['Number'], axis = 1).\n",
    "                  set_index('protocol_id').\n",
    "                  reset_index())\n",
    "    return df_scraped\n",
    "    \n",
    "\n",
    "def scrape_set_of_protocols(input_protocols_df):\n",
    "    \"\"\"Given a set of protocols (as a dataframe), search and scrape available info at clinical studies.info.nih.gov \"\"\"\n",
    "    df_queries = add_link_to_protocol_query(input_protocols_df)\n",
    "    page_results = get_pages_at_link_1(df_queries)\n",
    "    df_scraped = scrape_results_of_queries(page_results, df_queries)\n",
    "    df_scraped = df_scraped.apply(get_prot_info_at_link_3, axis = 1)\n",
    "    df_scraped = tidy_df_scraped(df_scraped)\n",
    "\n",
    "    return df_scraped"
   ]
  },
  {
   "cell_type": "markdown",
   "metadata": {},
   "source": [
    "### Load protocol dataframes"
   ]
  },
  {
   "cell_type": "code",
   "execution_count": 3,
   "metadata": {
    "collapsed": false
   },
   "outputs": [
    {
     "data": {
      "text/html": [
       "<div>\n",
       "<table border=\"1\" class=\"dataframe\">\n",
       "  <thead>\n",
       "    <tr style=\"text-align: right;\">\n",
       "      <th></th>\n",
       "      <th>protocol_id</th>\n",
       "      <th>prot_category</th>\n",
       "    </tr>\n",
       "  </thead>\n",
       "  <tbody>\n",
       "    <tr>\n",
       "      <th>0</th>\n",
       "      <td>01-M-0185</td>\n",
       "      <td>M</td>\n",
       "    </tr>\n",
       "    <tr>\n",
       "      <th>1</th>\n",
       "      <td>01-M-0232</td>\n",
       "      <td>M</td>\n",
       "    </tr>\n",
       "    <tr>\n",
       "      <th>2</th>\n",
       "      <td>02-M-0239</td>\n",
       "      <td>M</td>\n",
       "    </tr>\n",
       "    <tr>\n",
       "      <th>3</th>\n",
       "      <td>03-M-0093</td>\n",
       "      <td>M</td>\n",
       "    </tr>\n",
       "    <tr>\n",
       "      <th>4</th>\n",
       "      <td>03-M-0108</td>\n",
       "      <td>M</td>\n",
       "    </tr>\n",
       "  </tbody>\n",
       "</table>\n",
       "</div>"
      ],
      "text/plain": [
       "  protocol_id prot_category\n",
       "0   01-M-0185             M\n",
       "1   01-M-0232             M\n",
       "2   02-M-0239             M\n",
       "3   03-M-0093             M\n",
       "4   03-M-0108             M"
      ]
     },
     "execution_count": 3,
     "metadata": {},
     "output_type": "execute_result"
    }
   ],
   "source": [
    "n_and_m = pd.read_csv('./protocols_unaccounted_n_and_m.csv')\n",
    "not_n_and_m = pd.read_csv('./protocols_unaccounted_others.csv')\n",
    "n_and_m.head()"
   ]
  },
  {
   "cell_type": "markdown",
   "metadata": {
    "collapsed": false
   },
   "source": [
    "# Do the scraping\n"
   ]
  },
  {
   "cell_type": "code",
   "execution_count": 4,
   "metadata": {
    "collapsed": false
   },
   "outputs": [
    {
     "name": "stdout",
     "output_type": "stream",
     "text": [
      "no protocol by found:https://clinicalstudies.info.nih.gov/cgi/cs/processqry2.pl?search1=03-M-0108&searchtype=e&SearchButton99a=Submit+Query\n",
      "no protocol by found:https://clinicalstudies.info.nih.gov/cgi/cs/processqry2.pl?search1=05-M-0105&searchtype=e&SearchButton99a=Submit+Query\n",
      "no protocol by found:https://clinicalstudies.info.nih.gov/cgi/cs/processqry2.pl?search1=06-M-0102&searchtype=e&SearchButton99a=Submit+Query\n",
      "no protocol by found:https://clinicalstudies.info.nih.gov/cgi/cs/processqry2.pl?search1=08-M-0211&searchtype=e&SearchButton99a=Submit+Query\n",
      "no protocol by found:https://clinicalstudies.info.nih.gov/cgi/cs/processqry2.pl?search1=09-M-0171&searchtype=e&SearchButton99a=Submit+Query\n",
      "no protocol by found:https://clinicalstudies.info.nih.gov/cgi/cs/processqry2.pl?search1=10-M-0068&searchtype=e&SearchButton99a=Submit+Query\n",
      "no protocol by found:https://clinicalstudies.info.nih.gov/cgi/cs/processqry2.pl?search1=11-M-0058&searchtype=e&SearchButton99a=Submit+Query\n",
      "no protocol by found:https://clinicalstudies.info.nih.gov/cgi/cs/processqry2.pl?search1=11-M-0104&searchtype=e&SearchButton99a=Submit+Query\n",
      "no protocol by found:https://clinicalstudies.info.nih.gov/cgi/cs/processqry2.pl?search1=13-M-0004&searchtype=e&SearchButton99a=Submit+Query\n",
      "no protocol by found:https://clinicalstudies.info.nih.gov/cgi/cs/processqry2.pl?search1=02-N-0128&searchtype=e&SearchButton99a=Submit+Query\n",
      "no protocol by found:https://clinicalstudies.info.nih.gov/cgi/cs/processqry2.pl?search1=07-N-0063&searchtype=e&SearchButton99a=Submit+Query\n",
      "no protocol by found:https://clinicalstudies.info.nih.gov/cgi/cs/processqry2.pl?search1=07-N-0072&searchtype=e&SearchButton99a=Submit+Query\n",
      "no protocol by found:https://clinicalstudies.info.nih.gov/cgi/cs/processqry2.pl?search1=08-N-0027&searchtype=e&SearchButton99a=Submit+Query\n",
      "no protocol by found:https://clinicalstudies.info.nih.gov/cgi/cs/processqry2.pl?search1=08-N-0161&searchtype=e&SearchButton99a=Submit+Query\n",
      "no protocol by found:https://clinicalstudies.info.nih.gov/cgi/cs/processqry2.pl?search1=08-N-0215&searchtype=e&SearchButton99a=Submit+Query\n",
      "no protocol by found:https://clinicalstudies.info.nih.gov/cgi/cs/processqry2.pl?search1=09-N-0117&searchtype=e&SearchButton99a=Submit+Query\n",
      "no protocol by found:https://clinicalstudies.info.nih.gov/cgi/cs/processqry2.pl?search1=09-N-0182&searchtype=e&SearchButton99a=Submit+Query\n",
      "no protocol by found:https://clinicalstudies.info.nih.gov/cgi/cs/processqry2.pl?search1=10-N-0121&searchtype=e&SearchButton99a=Submit+Query\n",
      "no protocol by found:https://clinicalstudies.info.nih.gov/cgi/cs/processqry2.pl?search1=10-N-0212&searchtype=e&SearchButton99a=Submit+Query\n",
      "no protocol by found:https://clinicalstudies.info.nih.gov/cgi/cs/processqry2.pl?search1=11-N-0182&searchtype=e&SearchButton99a=Submit+Query\n",
      "no protocol by found:https://clinicalstudies.info.nih.gov/cgi/cs/processqry2.pl?search1=12-N-0033&searchtype=e&SearchButton99a=Submit+Query\n",
      "no protocol by found:https://clinicalstudies.info.nih.gov/cgi/cs/processqry2.pl?search1=12-N-0123&searchtype=e&SearchButton99a=Submit+Query\n",
      "no protocol by found:https://clinicalstudies.info.nih.gov/cgi/cs/processqry2.pl?search1=13-N-0047&searchtype=e&SearchButton99a=Submit+Query\n",
      "no protocol by found:https://clinicalstudies.info.nih.gov/cgi/cs/processqry2.pl?search1=13-N-0115&searchtype=e&SearchButton99a=Submit+Query\n"
     ]
    }
   ],
   "source": [
    "n_and_m_scraped = scrape_set_of_protocols(n_and_m)"
   ]
  },
  {
   "cell_type": "code",
   "execution_count": 5,
   "metadata": {
    "collapsed": false
   },
   "outputs": [
    {
     "name": "stdout",
     "output_type": "stream",
     "text": [
      "no protocol by found:https://clinicalstudies.info.nih.gov/cgi/cs/processqry2.pl?search1=05-AA-0121&searchtype=e&SearchButton99a=Submit+Query\n",
      "no protocol by found:https://clinicalstudies.info.nih.gov/cgi/cs/processqry2.pl?search1=08-AA-0137&searchtype=e&SearchButton99a=Submit+Query\n",
      "no protocol by found:https://clinicalstudies.info.nih.gov/cgi/cs/processqry2.pl?search1=11-AA-0010&searchtype=e&SearchButton99a=Submit+Query\n",
      "no protocol by found:https://clinicalstudies.info.nih.gov/cgi/cs/processqry2.pl?search1=12-AA-0032&searchtype=e&SearchButton99a=Submit+Query\n",
      "no protocol by found:https://clinicalstudies.info.nih.gov/cgi/cs/processqry2.pl?search1=12-AA-0143&searchtype=e&SearchButton99a=Submit+Query\n",
      "no protocol by found:https://clinicalstudies.info.nih.gov/cgi/cs/processqry2.pl?search1=98-AA-0009&searchtype=e&SearchButton99a=Submit+Query\n",
      "no protocol by found:https://clinicalstudies.info.nih.gov/cgi/cs/processqry2.pl?search1=98-AA-0056&searchtype=e&SearchButton99a=Submit+Query\n",
      "no protocol by found:https://clinicalstudies.info.nih.gov/cgi/cs/processqry2.pl?search1=14-AT-0054&searchtype=e&SearchButton99a=Submit+Query\n",
      "no protocol by found:https://clinicalstudies.info.nih.gov/cgi/cs/processqry2.pl?search1=03-C-0278E&searchtype=e&SearchButton99a=Submit+Query\n",
      "no protocol by found:https://clinicalstudies.info.nih.gov/cgi/cs/processqry2.pl?search1=11-C-0047&searchtype=e&SearchButton99a=Submit+Query\n",
      "no protocol by found:https://clinicalstudies.info.nih.gov/cgi/cs/processqry2.pl?search1=11-CH-0239&searchtype=e&SearchButton99a=Submit+Query\n",
      "no protocol by found:https://clinicalstudies.info.nih.gov/cgi/cs/processqry2.pl?search1=92-DC-0178&searchtype=e&SearchButton99a=Submit+Query\n"
     ]
    }
   ],
   "source": [
    "not_n_and_m_scraped = scrape_set_of_protocols(not_n_and_m)"
   ]
  },
  {
   "cell_type": "markdown",
   "metadata": {},
   "source": [
    "# Check the output\n",
    "\n",
    "For protocols outside NIMH and NINDS we can check the number of protocols queried and the number of filled values for each category:"
   ]
  },
  {
   "cell_type": "code",
   "execution_count": 6,
   "metadata": {
    "collapsed": false
   },
   "outputs": [
    {
     "data": {
      "text/plain": [
       "70"
      ]
     },
     "execution_count": 6,
     "metadata": {},
     "output_type": "execute_result"
    }
   ],
   "source": [
    "len(not_n_and_m_scraped)\n"
   ]
  },
  {
   "cell_type": "code",
   "execution_count": 7,
   "metadata": {
    "collapsed": false
   },
   "outputs": [
    {
     "data": {
      "text/plain": [
       "protocol_id                  70\n",
       "Condition(s)                 57\n",
       "For more information:        57\n",
       "Intervention(s)              57\n",
       "Investigational Device(s)    57\n",
       "Investigational Drug(s)      57\n",
       "Keywords                     57\n",
       "Population Exclusion(s)      57\n",
       "Principal Investigator       57\n",
       "Recruitment Detail           57\n",
       "Recruitment Keyword(s)       57\n",
       "Referral Contact             57\n",
       "Referral Letter Required     57\n",
       "Special Instructions         56\n",
       "Sponsoring Institute         57\n",
       "Supporting Site              57\n",
       "info_text                    58\n",
       "link_1                       70\n",
       "link_2                       58\n",
       "link_3                       58\n",
       "prot_category                70\n",
       "dtype: int64"
      ]
     },
     "execution_count": 7,
     "metadata": {},
     "output_type": "execute_result"
    }
   ],
   "source": [
    "not_n_and_m_scraped.count()"
   ]
  },
  {
   "cell_type": "markdown",
   "metadata": {},
   "source": [
    "\n",
    "For protocols in NIMH and NINDS the number of protocols queried and the number of filled values for each category:"
   ]
  },
  {
   "cell_type": "code",
   "execution_count": 8,
   "metadata": {
    "collapsed": false
   },
   "outputs": [
    {
     "data": {
      "text/plain": [
       "52"
      ]
     },
     "execution_count": 8,
     "metadata": {},
     "output_type": "execute_result"
    }
   ],
   "source": [
    "len(n_and_m)"
   ]
  },
  {
   "cell_type": "code",
   "execution_count": 9,
   "metadata": {
    "collapsed": false
   },
   "outputs": [
    {
     "data": {
      "text/plain": [
       "protocol_id                  52\n",
       "Condition(s)                 28\n",
       "For more information:        28\n",
       "Intervention(s)              28\n",
       "Investigational Device(s)    28\n",
       "Investigational Drug(s)      28\n",
       "Keywords                     28\n",
       "Population Exclusion(s)      28\n",
       "Principal Investigator       28\n",
       "Recruitment Detail           28\n",
       "Recruitment Keyword(s)       28\n",
       "Referral Contact             28\n",
       "Referral Letter Required     28\n",
       "Special Instructions         28\n",
       "Sponsoring Institute         28\n",
       "Supporting Site              28\n",
       "info_text                    28\n",
       "link_1                       52\n",
       "link_2                       28\n",
       "link_3                       28\n",
       "prot_category                52\n",
       "dtype: int64"
      ]
     },
     "execution_count": 9,
     "metadata": {},
     "output_type": "execute_result"
    }
   ],
   "source": [
    "n_and_m_scraped.count()"
   ]
  },
  {
   "cell_type": "markdown",
   "metadata": {},
   "source": [
    "# Write output"
   ]
  },
  {
   "cell_type": "code",
   "execution_count": 10,
   "metadata": {
    "collapsed": false
   },
   "outputs": [],
   "source": [
    "# had to install some packages\n",
    "# !conda install -y openpyxl\n",
    "#!conda install -y jdcal\n",
    "# !conda install -y et_xmlfile\n",
    "n_and_m_scraped.to_excel(excel_writer=\"n_and_m_scraped.xlsx\",sheet_name=\"scraped_protocols\",na_rep=\"NA\")\n"
   ]
  },
  {
   "cell_type": "code",
   "execution_count": 11,
   "metadata": {
    "collapsed": false
   },
   "outputs": [],
   "source": [
    "not_n_and_m_scraped.to_excel(excel_writer=\"not_n_and_m_scraped.xlsx\",sheet_name=\"scraped_protocols\",na_rep=\"NA\")\n",
    "# can't get this to work well yet:\n",
    "# not_n_and_m_scraped.to_csv(path_or_buf = 'not_n_and_m_scraped.csv') "
   ]
  }
 ],
 "metadata": {
  "kernelspec": {
   "display_name": "Python 3",
   "language": "python",
   "name": "python3"
  },
  "language_info": {
   "codemirror_mode": {
    "name": "ipython",
    "version": 3
   },
   "file_extension": ".py",
   "mimetype": "text/x-python",
   "name": "python",
   "nbconvert_exporter": "python",
   "pygments_lexer": "ipython3",
   "version": "3.5.2"
  }
 },
 "nbformat": 4,
 "nbformat_minor": 2
}
